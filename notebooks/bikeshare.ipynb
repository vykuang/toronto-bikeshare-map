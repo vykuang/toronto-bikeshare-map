{
 "cells": [
  {
   "cell_type": "markdown",
   "id": "ceb7f3e8-b27c-4059-9a1b-a298b92b9633",
   "metadata": {},
   "source": [
    "# Open Toronto"
   ]
  },
  {
   "cell_type": "code",
   "execution_count": 1,
   "id": "46192e93-7b98-403a-89e5-4b8b7b79326f",
   "metadata": {},
   "outputs": [],
   "source": [
    "import requests\n",
    "import zipfile\n",
    "import csv"
   ]
  },
  {
   "cell_type": "code",
   "execution_count": 2,
   "id": "1858ee59-9ec9-4722-bafc-10a27cb32ac8",
   "metadata": {},
   "outputs": [],
   "source": [
    "# Toronto Open Data is stored in a CKAN instance. It's APIs are documented here:\n",
    "# https://docs.ckan.org/en/latest/api/\n",
    "\n",
    "# To hit our API, you'll be making requests to:\n",
    "base_url = \"https://ckan0.cf.opendata.inter.prod-toronto.ca\"\n",
    "\n",
    "# Datasets are called \"packages\". Each package can contain many \"resources\"\n",
    "# To retrieve the metadata for this package and its resources, use the package name in this page's URL:\n",
    "url = base_url + \"/api/3/action/package_show\"\n",
    "\n",
    "# # To get resource data:\n",
    "# for idx, resource in enumerate(package[\"result\"][\"resources\"]):\n",
    "\n",
    "#        # To get metadata for non datastore_active resources:\n",
    "#        if not resource[\"datastore_active\"]:\n",
    "#            url = base_url + \"/api/3/action/resource_show?id=\" + resource[\"id\"]\n",
    "#            resource_metadata = requests.get(url).json()\n",
    "#            print(resource_metadata)\n",
    "#            # From here, you can use the \"url\" attribute to download this file\n"
   ]
  },
  {
   "cell_type": "code",
   "execution_count": null,
   "id": "7f998a50-a3d2-47af-8dd2-8eee8f278422",
   "metadata": {},
   "outputs": [],
   "source": [
    "params = { \"id\": \"bike-share-toronto-ridership-data\"}\n",
    "package = requests.get(url, params = params).json()"
   ]
  },
  {
   "cell_type": "code",
   "execution_count": 3,
   "id": "0abce11d-4a03-4860-835c-d5f3ace03195",
   "metadata": {},
   "outputs": [
    {
     "data": {
      "text/plain": [
       "dict_keys(['help', 'success', 'result'])"
      ]
     },
     "execution_count": 3,
     "metadata": {},
     "output_type": "execute_result"
    }
   ],
   "source": [
    "package.keys()"
   ]
  },
  {
   "cell_type": "code",
   "execution_count": 4,
   "id": "a1289cc2-f51f-4859-8ec4-75b3c6e31386",
   "metadata": {},
   "outputs": [
    {
     "data": {
      "text/plain": [
       "dict_keys(['author', 'author_email', 'civic_issues', 'creator_user_id', 'dataset_category', 'date_published', 'excerpt', 'formats', 'id', 'information_url', 'is_retired', 'isopen', 'last_refreshed', 'license_id', 'license_title', 'limitations', 'maintainer', 'maintainer_email', 'metadata_created', 'metadata_modified', 'name', 'notes', 'num_resources', 'num_tags', 'organization', 'owner_division', 'owner_email', 'owner_org', 'private', 'refresh_rate', 'state', 'title', 'topics', 'type', 'version', 'resources', 'tags', 'groups', 'relationships_as_subject', 'relationships_as_object'])"
      ]
     },
     "execution_count": 4,
     "metadata": {},
     "output_type": "execute_result"
    }
   ],
   "source": [
    "package['result'].keys()"
   ]
  },
  {
   "cell_type": "code",
   "execution_count": 8,
   "id": "3c4f98b0-a2ea-4f9a-9255-2762588039ac",
   "metadata": {
    "scrolled": true
   },
   "outputs": [
    {
     "data": {
      "text/plain": [
       "{'bikeshare-ridership-readme': 'https://ckan0.cf.opendata.inter.prod-toronto.ca/dataset/7e876c24-177c-4605-9cef-e50dd74c617f/resource/ad78f9f7-d4f2-42a1-9a1c-61dbc83f84c8/download/bikeshare-ridership-readme.xlsx',\n",
       " 'bikeshare-ridership-2014-2015': 'https://ckan0.cf.opendata.inter.prod-toronto.ca/dataset/7e876c24-177c-4605-9cef-e50dd74c617f/resource/85326868-508c-497e-b139-b698aaf27bbf/download/bikeshare-ridership-2014-2015.xlsx',\n",
       " 'bikeshare-ridership-2016': 'https://ckan0.cf.opendata.inter.prod-toronto.ca/dataset/7e876c24-177c-4605-9cef-e50dd74c617f/resource/6814e3b2-9e57-4df6-915a-ad0dddda9ea5/download/bikeshare-ridership-2016.xlsx',\n",
       " 'bikeshare-ridership-2017': 'https://ckan0.cf.opendata.inter.prod-toronto.ca/dataset/7e876c24-177c-4605-9cef-e50dd74c617f/resource/98b63ba7-24ba-41da-a788-1c28d21a39d1/download/bikeshare-ridership-2017.zip',\n",
       " 'bikeshare-ridership-2018': 'https://ckan0.cf.opendata.inter.prod-toronto.ca/dataset/7e876c24-177c-4605-9cef-e50dd74c617f/resource/f4e91cc6-b925-46bb-bb89-aab0b618d9c2/download/bikeshare-ridership-2018.zip',\n",
       " 'bikeshare-ridership-2019': 'https://ckan0.cf.opendata.inter.prod-toronto.ca/dataset/7e876c24-177c-4605-9cef-e50dd74c617f/resource/f725ec3b-4f5c-4013-8a39-a512c44b44ba/download/bikeshare-ridership-2019.zip',\n",
       " 'bikeshare-ridership-2020': 'https://ckan0.cf.opendata.inter.prod-toronto.ca/dataset/7e876c24-177c-4605-9cef-e50dd74c617f/resource/e534141d-92c6-4dd7-8ba1-bb061674d943/download/bikeshare-ridership-2020.zip',\n",
       " 'bikeshare-ridership-2021': 'https://ckan0.cf.opendata.inter.prod-toronto.ca/dataset/7e876c24-177c-4605-9cef-e50dd74c617f/resource/ddc039f6-07fa-47a3-a707-0121ade3b307/download/bikeshare-ridership-2021.zip',\n",
       " 'bikeshare-ridership-2022': 'https://ckan0.cf.opendata.inter.prod-toronto.ca/dataset/7e876c24-177c-4605-9cef-e50dd74c617f/resource/db10a7b1-2702-481c-b7f0-0c67070104bb/download/bikeshare-ridership-2022.zip',\n",
       " 'bikeshare-ridership-2023': 'https://ckan0.cf.opendata.inter.prod-toronto.ca/dataset/7e876c24-177c-4605-9cef-e50dd74c617f/resource/f0fa6a67-4571-4dd6-9d5a-df010ebed7d1/download/bikeshare-ridership-2023.zip',\n",
       " 'bikeshare-ridership-2024': 'https://ckan0.cf.opendata.inter.prod-toronto.ca/dataset/7e876c24-177c-4605-9cef-e50dd74c617f/resource/9a9a0163-8114-447c-bf66-790b1a92da51/download/bikeshare-ridership-2024.zip'}"
      ]
     },
     "execution_count": 8,
     "metadata": {},
     "output_type": "execute_result"
    }
   ],
   "source": [
    "urls = {res['name']: res['url'] for res in package['result']['resources']}\n",
    "urls"
   ]
  },
  {
   "cell_type": "code",
   "execution_count": 9,
   "id": "9fe20213-c003-4fa2-afab-391f950245b8",
   "metadata": {},
   "outputs": [],
   "source": [
    "response = requests.get(url=urls['bikeshare-ridership-2024'])"
   ]
  },
  {
   "cell_type": "code",
   "execution_count": 10,
   "id": "ec10179b-0793-456e-9c40-466312a88358",
   "metadata": {},
   "outputs": [
    {
     "data": {
      "text/plain": [
       "<Response [200]>"
      ]
     },
     "execution_count": 10,
     "metadata": {},
     "output_type": "execute_result"
    }
   ],
   "source": [
    "response"
   ]
  },
  {
   "cell_type": "code",
   "execution_count": 11,
   "id": "35d6e676-a643-4eb0-aff9-405b85bbdf9d",
   "metadata": {},
   "outputs": [],
   "source": [
    "with open('bikeshare-2024.zip', 'wb') as file:\n",
    "    file.write(response.content)"
   ]
  },
  {
   "cell_type": "markdown",
   "id": "5dde5c06-5496-4a9c-a9bf-df0fa73f0389",
   "metadata": {},
   "source": [
    "## Streaming data\n",
    "\n",
    "```python\n",
    "\n",
    "with open(\"WDI_CSV.zip\", mode=\"wb\") as file:\r",
    "     for chunk in response.iter_content(chunk_size=10 * 1024):          file.write(chun\n",
    "```..."
   ]
  },
  {
   "cell_type": "code",
   "execution_count": 12,
   "id": "3f0d6e58-ddd0-46e2-acbf-6973956e0f77",
   "metadata": {},
   "outputs": [],
   "source": [
    "with requests.get(url=urls['bikeshare-ridership-2023'], stream=True) as res:\n",
    "    with open('bikeshare-2023.zip', 'wb') as file:\n",
    "        for chunk in res.iter_content(chunk_size=500*1024):\n",
    "            file.write(chunk)"
   ]
  },
  {
   "cell_type": "code",
   "execution_count": 15,
   "id": "7206806c-5a23-428b-9c3f-de59b46f5110",
   "metadata": {},
   "outputs": [],
   "source": [
    "with zipfile.ZipFile('bikeshare-2024.zip', 'r') as zf:\n",
    "    zf.extractall('bikeshare-2024')"
   ]
  },
  {
   "cell_type": "code",
   "execution_count": null,
   "id": "85877171-1878-4ab4-b90e-de2643c97319",
   "metadata": {},
   "outputs": [],
   "source": [
    "with open('bikeshare-2024/Bike share ridership 2024-01.csv') as cf:\n",
    "    riders = csv.reader(cf)\n",
    "    "
   ]
  },
  {
   "cell_type": "markdown",
   "id": "b1f34a48-a3d7-4012-ba8a-dd88f290cf15",
   "metadata": {},
   "source": [
    "## bike share metadata?\n",
    "\n",
    "Info on geolocations of the bike share stations?"
   ]
  },
  {
   "cell_type": "code",
   "execution_count": 3,
   "id": "6bc0959f-dec0-49bb-81c8-bf2a149216bb",
   "metadata": {},
   "outputs": [],
   "source": [
    "params = {'id': 'bike-share-toronto'}\n",
    "pkg = requests.get(url, params=params).json()"
   ]
  },
  {
   "cell_type": "code",
   "execution_count": 4,
   "id": "d3459d6b-a914-4946-936a-34aa7295866b",
   "metadata": {},
   "outputs": [
    {
     "data": {
      "text/plain": [
       "dict_keys(['help', 'success', 'result'])"
      ]
     },
     "execution_count": 4,
     "metadata": {},
     "output_type": "execute_result"
    }
   ],
   "source": [
    "pkg.keys()"
   ]
  },
  {
   "cell_type": "code",
   "execution_count": 5,
   "id": "69da531f-13c7-41ca-90f6-60a903397af0",
   "metadata": {},
   "outputs": [
    {
     "data": {
      "text/plain": [
       "dict_keys(['author', 'author_email', 'creator_user_id', 'dataset_category', 'date_published', 'excerpt', 'formats', 'id', 'information_url', 'is_retired', 'isopen', 'last_refreshed', 'license_id', 'license_title', 'maintainer', 'maintainer_email', 'metadata_created', 'metadata_modified', 'name', 'notes', 'num_resources', 'num_tags', 'organization', 'owner_division', 'owner_email', 'owner_org', 'private', 'refresh_rate', 'state', 'title', 'topics', 'type', 'version', 'resources', 'tags', 'groups', 'relationships_as_subject', 'relationships_as_object'])"
      ]
     },
     "execution_count": 5,
     "metadata": {},
     "output_type": "execute_result"
    }
   ],
   "source": [
    "pkg['result'].keys()"
   ]
  },
  {
   "cell_type": "code",
   "execution_count": 7,
   "id": "181d233f-7fad-42c2-aa66-45d6c51d5b0a",
   "metadata": {
    "scrolled": true
   },
   "outputs": [
    {
     "data": {
      "text/plain": [
       "[{'cache_last_updated': None,\n",
       "  'cache_url': None,\n",
       "  'created': '2019-07-23T16:40:17.467193',\n",
       "  'datastore_active': False,\n",
       "  'format': 'JSON',\n",
       "  'hash': '',\n",
       "  'id': '5c1c2c06-d27f-47b7-ae82-926a6d23d76f',\n",
       "  'is_datastore_cache_file': False,\n",
       "  'is_preview': False,\n",
       "  'last_modified': '2019-07-23T16:40:17.427058',\n",
       "  'metadata_modified': '2022-03-10T16:24:04.865406',\n",
       "  'mimetype': 'application/json',\n",
       "  'mimetype_inner': None,\n",
       "  'name': 'bike-share-json',\n",
       "  'package_id': '2b44db0d-eea9-442d-b038-79335368ad5a',\n",
       "  'position': 0,\n",
       "  'resource_type': None,\n",
       "  'revision_id': 'e19f02c5-3513-46df-a4f6-375e4e530133',\n",
       "  'size': 577,\n",
       "  'state': 'active',\n",
       "  'url': 'https://ckan0.cf.opendata.inter.prod-toronto.ca/dataset/2b44db0d-eea9-442d-b038-79335368ad5a/resource/5c1c2c06-d27f-47b7-ae82-926a6d23d76f/download/bike-share-json.json',\n",
       "  'url_type': 'upload'},\n",
       " {'cache_last_updated': None,\n",
       "  'cache_url': None,\n",
       "  'created': '2019-07-23T16:40:18.280959',\n",
       "  'datastore_active': False,\n",
       "  'format': 'JSON',\n",
       "  'hash': '',\n",
       "  'id': 'b69873a1-c180-4ccd-a970-514e434b4971',\n",
       "  'is_datastore_cache_file': False,\n",
       "  'is_preview': False,\n",
       "  'last_modified': '2019-07-23T16:40:18.215372',\n",
       "  'metadata_modified': '2022-03-10T16:24:06.148332',\n",
       "  'mimetype': 'application/json',\n",
       "  'mimetype_inner': None,\n",
       "  'name': 'bike-share-gbfs-general-bikeshare-feed-specification',\n",
       "  'package_id': '2b44db0d-eea9-442d-b038-79335368ad5a',\n",
       "  'position': 1,\n",
       "  'resource_type': None,\n",
       "  'revision_id': 'e19f02c5-3513-46df-a4f6-375e4e530133',\n",
       "  'size': 577,\n",
       "  'state': 'active',\n",
       "  'url': 'https://ckan0.cf.opendata.inter.prod-toronto.ca/dataset/2b44db0d-eea9-442d-b038-79335368ad5a/resource/b69873a1-c180-4ccd-a970-514e434b4971/download/bike-share-gbfs-general-bikeshare-feed-specification.json',\n",
       "  'url_type': 'upload'},\n",
       " {'cache_last_updated': None,\n",
       "  'cache_url': None,\n",
       "  'created': '2019-07-23T16:40:19.138864',\n",
       "  'datastore_active': False,\n",
       "  'format': 'WEB',\n",
       "  'hash': '',\n",
       "  'id': '2eb37596-96a7-4379-b334-a47a396e9ac3',\n",
       "  'is_datastore_cache_file': False,\n",
       "  'is_preview': True,\n",
       "  'last_modified': '2019-07-23T16:40:19.084648',\n",
       "  'metadata_modified': '2022-03-10T16:24:06.601572',\n",
       "  'mimetype': 'application/json',\n",
       "  'mimetype_inner': None,\n",
       "  'name': 'gbfs-documentation',\n",
       "  'package_id': '2b44db0d-eea9-442d-b038-79335368ad5a',\n",
       "  'position': 2,\n",
       "  'resource_type': None,\n",
       "  'revision_id': '54d4b35d-985a-4a2a-9fc6-cf96a15d870e',\n",
       "  'size': 116702,\n",
       "  'state': 'active',\n",
       "  'url': 'https://github.com/NABSA/gbfs',\n",
       "  'url_type': ''},\n",
       " {'cache_last_updated': None,\n",
       "  'cache_url': None,\n",
       "  'created': '2019-07-23T16:40:19.981837',\n",
       "  'datastore_active': False,\n",
       "  'format': 'TXT',\n",
       "  'hash': '',\n",
       "  'id': '5ee32dcb-3f4d-4dfe-a3ad-e27f2c13b5a3',\n",
       "  'is_datastore_cache_file': False,\n",
       "  'is_preview': False,\n",
       "  'last_modified': '2019-07-23T16:40:19.920680',\n",
       "  'metadata_modified': '2022-03-10T16:24:08.013740',\n",
       "  'mimetype': 'text/plain',\n",
       "  'mimetype_inner': None,\n",
       "  'name': 'bike-share-stations-readme',\n",
       "  'package_id': '2b44db0d-eea9-442d-b038-79335368ad5a',\n",
       "  'position': 3,\n",
       "  'resource_type': None,\n",
       "  'revision_id': 'e19f02c5-3513-46df-a4f6-375e4e530133',\n",
       "  'size': 1701,\n",
       "  'state': 'active',\n",
       "  'url': 'https://ckan0.cf.opendata.inter.prod-toronto.ca/dataset/2b44db0d-eea9-442d-b038-79335368ad5a/resource/5ee32dcb-3f4d-4dfe-a3ad-e27f2c13b5a3/download/bike-share-stations-readme.txt',\n",
       "  'url_type': 'upload'}]"
      ]
     },
     "execution_count": 7,
     "metadata": {},
     "output_type": "execute_result"
    }
   ],
   "source": [
    "pkg['result']['resources']"
   ]
  },
  {
   "cell_type": "code",
   "execution_count": 9,
   "id": "573a06fd-7102-4ab9-8e5e-beb8870f2b04",
   "metadata": {},
   "outputs": [],
   "source": [
    "res_url = pkg['result']['resources'][0]['url']\n",
    "resp = requests.get(url=res_url)\n",
    "with open('bike-share.json', 'wb') as jf:\n",
    "    jf.write(resp.content)"
   ]
  },
  {
   "cell_type": "markdown",
   "id": "fcedb03e-21af-43eb-bf75-416b4102e947",
   "metadata": {},
   "source": [
    "The above contains a directory of URLs, which do contain geoinfo on the stations, as well as the station status"
   ]
  },
  {
   "cell_type": "code",
   "execution_count": 10,
   "id": "83b84be4-842a-4f05-8219-07e495a114fb",
   "metadata": {},
   "outputs": [],
   "source": [
    "bike_urls = resp.json()"
   ]
  },
  {
   "cell_type": "code",
   "execution_count": 13,
   "id": "251b3e36-dac6-426d-8fd7-b6f1ccc83388",
   "metadata": {},
   "outputs": [
    {
     "data": {
      "text/plain": [
       "dict_keys(['last_updated', 'ttl', 'data'])"
      ]
     },
     "execution_count": 13,
     "metadata": {},
     "output_type": "execute_result"
    }
   ],
   "source": [
    "bike_urls.keys()"
   ]
  },
  {
   "cell_type": "code",
   "execution_count": 14,
   "id": "3d946529-7f67-4040-8d11-3d40a9b63bfc",
   "metadata": {},
   "outputs": [
    {
     "data": {
      "text/plain": [
       "{'en': {'feeds': [{'name': 'system regions',\n",
       "    'url': 'https://tor.publicbikesystem.net/ube/gbfs/v1/en/system_regions'},\n",
       "   {'name': 'system_information',\n",
       "    'url': 'https://tor.publicbikesystem.net/ube/gbfs/v1/en/system_information'},\n",
       "   {'name': 'station_information',\n",
       "    'url': 'https://tor.publicbikesystem.net/ube/gbfs/v1/en/station_information'},\n",
       "   {'name': 'station_status',\n",
       "    'url': 'https://tor.publicbikesystem.net/ube/gbfs/v1/en/station_status'},\n",
       "   {'name': 'system_pricing_plans',\n",
       "    'url': 'https://tor.publicbikesystem.net/ube/gbfs/v1/en/system_pricing_plans'}]}}"
      ]
     },
     "execution_count": 14,
     "metadata": {},
     "output_type": "execute_result"
    }
   ],
   "source": [
    "bike_urls['data']"
   ]
  },
  {
   "cell_type": "code",
   "execution_count": 21,
   "id": "7873b31f-a098-47c9-82ed-4b2bcbd1677e",
   "metadata": {},
   "outputs": [
    {
     "data": {
      "text/plain": [
       "'https://tor.publicbikesystem.net/ube/gbfs/v1/en/station_information'"
      ]
     },
     "execution_count": 21,
     "metadata": {},
     "output_type": "execute_result"
    }
   ],
   "source": [
    "station_urls = {}\n",
    "bike_feeds = bike_urls['data']['en']['feeds']\n",
    "station_urls = {d['name']: d['url'] for d in bike_feeds}\n",
    "station_urls['station_information']"
   ]
  },
  {
   "cell_type": "code",
   "execution_count": 22,
   "id": "eff01161-e702-4874-9716-bcd61b04149d",
   "metadata": {},
   "outputs": [
    {
     "data": {
      "text/plain": [
       "3"
      ]
     },
     "execution_count": 22,
     "metadata": {},
     "output_type": "execute_result"
    }
   ],
   "source": [
    "station_info = requests.get(url=station_urls['station_information']).json()\n",
    "len(station_info)"
   ]
  },
  {
   "cell_type": "code",
   "execution_count": 23,
   "id": "e6bf1ab6-8fdd-44b3-bc21-0b68353824f7",
   "metadata": {},
   "outputs": [
    {
     "data": {
      "text/plain": [
       "dict_keys(['last_updated', 'ttl', 'data'])"
      ]
     },
     "execution_count": 23,
     "metadata": {},
     "output_type": "execute_result"
    }
   ],
   "source": [
    "station_info.keys()"
   ]
  },
  {
   "cell_type": "code",
   "execution_count": 28,
   "id": "a0a5cba7-8e0b-486d-b253-22c2012f3a8f",
   "metadata": {},
   "outputs": [
    {
     "name": "stdout",
     "output_type": "stream",
     "text": [
      "number of bike stations: 791\n"
     ]
    }
   ],
   "source": [
    "print(f\"number of bike stations: {len(station_info['data']['stations'])}\")"
   ]
  },
  {
   "cell_type": "code",
   "execution_count": 29,
   "id": "81feba8e-8bc2-4ef9-8e15-88403e732b9b",
   "metadata": {},
   "outputs": [
    {
     "data": {
      "text/plain": [
       "{'station_id': '7000',\n",
       " 'name': 'Fort York  Blvd / Capreol Ct',\n",
       " 'physical_configuration': 'REGULAR',\n",
       " 'lat': 43.639832,\n",
       " 'lon': -79.395954,\n",
       " 'altitude': 0.0,\n",
       " 'address': 'Fort York  Blvd / Capreol Ct',\n",
       " 'capacity': 35,\n",
       " 'is_charging_station': False,\n",
       " 'rental_methods': ['KEY', 'TRANSITCARD', 'CREDITCARD', 'PHONE'],\n",
       " 'groups': [],\n",
       " 'obcn': '647-643-9607',\n",
       " 'nearby_distance': 500.0,\n",
       " '_ride_code_support': True,\n",
       " 'rental_uris': {}}"
      ]
     },
     "execution_count": 29,
     "metadata": {},
     "output_type": "execute_result"
    }
   ],
   "source": [
    "station_info['data']['stations'][0]"
   ]
  },
  {
   "cell_type": "code",
   "execution_count": 30,
   "id": "8e8ab24b-dc77-4e10-acbc-c7e74b98c805",
   "metadata": {},
   "outputs": [
    {
     "data": {
      "text/plain": [
       "{'station_id': '7035',\n",
       " 'name': 'Queen St W / Ossington Ave',\n",
       " 'physical_configuration': 'REGULAR',\n",
       " 'lat': 43.643975,\n",
       " 'lon': -79.419576,\n",
       " 'altitude': 0.0,\n",
       " 'address': 'Queen St W / Ossington Ave',\n",
       " 'capacity': 31,\n",
       " 'is_charging_station': False,\n",
       " 'rental_methods': ['KEY', 'TRANSITCARD', 'CREDITCARD', 'PHONE'],\n",
       " 'groups': ['P7197-7035'],\n",
       " 'obcn': '416-371-6632',\n",
       " 'nearby_distance': 500.0,\n",
       " '_ride_code_support': True,\n",
       " 'rental_uris': {}}"
      ]
     },
     "execution_count": 30,
     "metadata": {},
     "output_type": "execute_result"
    }
   ],
   "source": [
    "station_info['data']['stations'][33]"
   ]
  },
  {
   "cell_type": "code",
   "execution_count": null,
   "id": "5e05adbe-92da-468c-a942-d978128c5d91",
   "metadata": {},
   "outputs": [],
   "source": []
  }
 ],
 "metadata": {
  "kernelspec": {
   "display_name": "Python 3 (ipykernel)",
   "language": "python",
   "name": "python3"
  },
  "language_info": {
   "codemirror_mode": {
    "name": "ipython",
    "version": 3
   },
   "file_extension": ".py",
   "mimetype": "text/x-python",
   "name": "python",
   "nbconvert_exporter": "python",
   "pygments_lexer": "ipython3",
   "version": "3.11.6"
  }
 },
 "nbformat": 4,
 "nbformat_minor": 5
}
